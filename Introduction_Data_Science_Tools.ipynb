{
 "cells": [
  {
   "cell_type": "markdown",
   "id": "25fa6faf",
   "metadata": {},
   "source": [
    "# Introduction to Data Science Tools Using JupyterLite"
   ]
  },
  {
   "cell_type": "markdown",
   "id": "ad253e70",
   "metadata": {},
   "source": [
    "This notebook introduces you to some popular data science tools and basic arithmetic operations using Python."
   ]
  },
  {
   "cell_type": "markdown",
   "id": "5f03e109",
   "metadata": {},
   "source": [
    "### Data Science Languages\n",
    "1. Python\n",
    "2. R\n",
    "3. SQL\n",
    "4. Julia"
   ]
  },
  {
   "cell_type": "markdown",
   "id": "3640898e",
   "metadata": {},
   "source": [
    "### Data Science Libraries\n",
    "1. Pandas\n",
    "2. NumPy\n",
    "3. Matplotlib\n",
    "4. Scikit-learn\n",
    "5. TensorFlow"
   ]
  },
  {
   "cell_type": "markdown",
   "id": "a6e56c4e",
   "metadata": {},
   "source": [
    "### Data Science Tools\n",
    "\n",
    "| Tool          | Description                     |\n",
    "|---------------|--------------------------------|\n",
    "| JupyterLite   | Lightweight Jupyter Notebook   |\n",
    "| JupyterLab    | Interactive development environment |\n",
    "| Google Colab  | Cloud-based Jupyter notebook   |\n",
    "| VS Code       | Code editor with Jupyter support |"
   ]
  },
  {
   "cell_type": "markdown",
   "id": "002b9b7b",
   "metadata": {},
   "source": [
    "### Arithmetic Expressions Examples\n",
    "The following examples demonstrate basic arithmetic operations in Python."
   ]
  },
  {
   "cell_type": "code",
   "execution_count": null,
   "id": "5934f708",
   "metadata": {},
   "outputs": [],
   "source": [
    "# Multiply 5 and 6, then add 10\n",
    "result = 5 * 6 + 10\n",
    "result"
   ]
  },
  {
   "cell_type": "code",
   "execution_count": null,
   "id": "108c48ff",
   "metadata": {},
   "outputs": [],
   "source": [
    "# Convert 120 minutes to hours\n",
    "minutes = 120\n",
    "hours = minutes / 60\n",
    "hours"
   ]
  },
  {
   "cell_type": "markdown",
   "id": "ee746b3c",
   "metadata": {},
   "source": [
    "### Objectives\n",
    "- Understand popular data science languages and libraries\n",
    "- Learn to use markdown in Jupyter notebooks\n",
    "- Practice basic arithmetic operations using Python code\n",
    "- Share notebooks using GitHub"
   ]
  },
  {
   "cell_type": "markdown",
   "id": "38ea92ae",
   "metadata": {},
   "source": [
    "### Author\n",
    "Muhammad Tariq Rashid"
   ]
  }
 ],
 "metadata": {
  "kernelspec": {
   "display_name": "Python [conda env:base] *",
   "language": "python",
   "name": "conda-base-py"
  },
  "language_info": {
   "codemirror_mode": {
    "name": "ipython",
    "version": 3
   },
   "file_extension": ".py",
   "mimetype": "text/x-python",
   "name": "python",
   "nbconvert_exporter": "python",
   "pygments_lexer": "ipython3",
   "version": "3.12.7"
  }
 },
 "nbformat": 4,
 "nbformat_minor": 5
}
